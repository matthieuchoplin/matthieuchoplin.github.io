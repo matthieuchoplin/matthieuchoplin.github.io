{
 "cells": [
  {
   "cell_type": "markdown",
   "metadata": {},
   "source": [
    "Write your post here."
   ]
  }
 ],
 "metadata": {
  "kernelspec": {
   "display_name": "Python 2",
   "env": {},
   "language": "python",
   "name": "python2"
  },
  "nikola": {
   "category": "",
   "date": "2016-12-11 10:46:14 UTC",
   "description": "",
   "link": "",
   "slug": "jupyter-notebook-basics",
   "tags": "",
   "title": "Jupyter Notebook basics",
   "type": "text"
  }
 },
 "nbformat": 4,
 "nbformat_minor": 1
}
